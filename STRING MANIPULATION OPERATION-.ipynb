{
 "cells": [
  {
   "cell_type": "markdown",
   "id": "8daa556c-6376-420f-8e04-3adb7dc1d344",
   "metadata": {},
   "source": [
    "# String Manipulation Operations"
   ]
  },
  {
   "cell_type": "markdown",
   "id": "0682d37a-1af1-4b5b-8067-26bf75e79052",
   "metadata": {},
   "source": [
    "## 1. UPPER CASE\n",
    "### EX- \n",
    "    a= 'sentance'(must be in small later)\n",
    "    print('before upper:',a)\n",
    "    b=a.upper()\n",
    "    print('after upper:',b)\n",
    "      \n",
    "## 2. LOWER CASE\n",
    "### EX- \n",
    "    a= 'SENTENCE'(must be in capital later)\n",
    "    print('before lower:',a)\n",
    "    b=a.lower()\n",
    "    print('after lower:',b)\n",
    "      \n",
    "## 3. REPLACE\n",
    "### EX-\n",
    "    a='sentance'\n",
    "    b=a.replace(a)\n",
    "    print(b)\n",
    "     \n",
    "## 4. FIND\n",
    "### EX-\n",
    "    name='sentance'\n",
    "    name.find('what ever later you have to find')\n",
    "\n",
    "## 5. SPLIT\n",
    "### EX-\n",
    "    name: 'sentance'\n",
    "    split_string= (name.split())\n",
    "    print(split_string)"
   ]
  },
  {
   "cell_type": "code",
   "execution_count": null,
   "id": "025c8f83-2681-4ce2-877b-57defee4cc9a",
   "metadata": {},
   "outputs": [],
   "source": []
  }
 ],
 "metadata": {
  "kernelspec": {
   "display_name": "Python 3 (ipykernel)",
   "language": "python",
   "name": "python3"
  },
  "language_info": {
   "codemirror_mode": {
    "name": "ipython",
    "version": 3
   },
   "file_extension": ".py",
   "mimetype": "text/x-python",
   "name": "python",
   "nbconvert_exporter": "python",
   "pygments_lexer": "ipython3",
   "version": "3.12.4"
  }
 },
 "nbformat": 4,
 "nbformat_minor": 5
}
